{
 "cells": [
  {
   "cell_type": "code",
   "execution_count": 45,
   "metadata": {},
   "outputs": [],
   "source": [
    "import pandas as pd\n",
    "import random"
   ]
  },
  {
   "cell_type": "code",
   "execution_count": 46,
   "metadata": {},
   "outputs": [
    {
     "data": {
      "text/plain": [
       "'\\n{\"gold_label\": \"0\", \"sentence1\": \"孕妇吃菠菜好吗\", \"sentence2\": \"孕妇可以吃炒菠菜吗\", \"ID\": \"208799\"}\\n{\"gold_label\": \"1\", \"sentence1\": \"如何减少农药对人体的危害？\", \"sentence2\": \"怎样可以减少农药对人体的危害？\", \"ID\": \"208800\"}\\n'"
      ]
     },
     "execution_count": 46,
     "metadata": {},
     "output_type": "execute_result"
    }
   ],
   "source": [
    "'''\n",
    "{\"gold_label\": \"0\", \"sentence1\": \"孕妇吃菠菜好吗\", \"sentence2\": \"孕妇可以吃炒菠菜吗\", \"ID\": \"208799\"}\n",
    "{\"gold_label\": \"1\", \"sentence1\": \"如何减少农药对人体的危害？\", \"sentence2\": \"怎样可以减少农药对人体的危害？\", \"ID\": \"208800\"}\n",
    "'''"
   ]
  },
  {
   "cell_type": "code",
   "execution_count": 47,
   "metadata": {},
   "outputs": [
    {
     "name": "stdout",
     "output_type": "stream",
     "text": [
      "第1条政策\n",
      "中共中央 国务院关于构建数据基础制度更好发挥数据要素作用的意见\n",
      "新华社北京12月19日电\n",
      "中共中央 国务院关于构建数据基础制度更好发挥数据要素作用的意见\n",
      "（2022年12月2日）\n",
      "数据作为新型生产要素，是数字化、网络化、智能化的基础，已快速融入生产、分配、流通、消费和社会服务管理等各环节，深刻改变着生产方式、生活方式和社会治理方式\n",
      "数据基础制度建设事关国家发展和安全大局\n",
      "为加快构建数据基础制度，充分发挥我国海量数据规模和丰富应用场景优势，激活数据要素潜能，做强做优做大数字经济，增强经济发展新动能，构筑国家竞争新优势，现提出如下意见\n",
      "一、总体要求\n",
      "（一）指导思想\n",
      "以习近平新时代中国特色社会主义思想为指导，深入贯彻党的二十大精神，完整、准确、全面贯彻新发展理念，加快构建新发展格局，坚持改革创新、系统谋划，以维护国家数据安全、保护个人信息和商业秘密为前提，以促进数据合规高效流通使用、赋能实体经济为主线，以数据产权、流通交易、收益分配、安全治理为重点，深入参与国际高标准数字规则制定，构建适应数据特征、符合数字经济发展规律、保障国家数据安全、彰显创新引领的数据基础制度，充分实现数据要素价值、促进全体人民共享数字经济发展红利，为深化创新驱动、推动高质量发展、推进国家治理体系和治理能力现代化提供有力支撑\n",
      "（二）工作原则\n",
      "——遵循发展规律，创新制度安排\n",
      "充分认识和把握数据产权、流通、交易、使用、分配、治理、安全等基本规律，探索有利于数据安全保护、有效利用、合规流通的产权制度和市场体系，完善数据要素市场体制机制，在实践中完善，在探索中发展，促进形成与数字生产力相适应的新型生产关系\n",
      "——坚持共享共用，释放价值红利\n",
      "合理降低市场主体获取数据的门槛，增强数据要素共享性、普惠性，激励创新创业创造，强化反垄断和反不正当竞争，形成依法规范、共同参与、各取所需、共享红利的发展模式\n",
      "——强化优质供给，促进合规流通\n",
      "顺应经济社会数字化转型发展趋势，推动数据要素供给调整优化，提高数据要素供给数量和质量\n",
      "建立数据可信流通体系，增强数据的可用、可信、可流通、可追溯水平\n",
      "实现数据流通全过程动态管理，在合规流通使用中激活数据价值\n",
      "——完善治理体系，保障安全发展\n",
      "统筹发展和安全，贯彻总体国家安全观，强化数据安全保障体系建设，把安全贯穿数据供给、流通、使用全过程，划定监管底线和红线\n",
      "加强数据分类分级管理，把该管的管住、该放的放开，积极有效防范和化解各种数据风险，形成政府监管与市场自律、法治与行业自治协同、国内与国际统筹的数据要素治理结构\n",
      "——深化开放合作，实现互利共赢\n",
      "积极参与数据跨境流动国际规则制定，探索加入区域性国际数据跨境流动制度安排\n",
      "推动数据跨境流动双边多边协商，推进建立互利互惠的规则等制度安排\n",
      "鼓励探索数据跨境流动与合作的新途径新模式\n",
      "二、建立保障权益、合规使用的数据产权制度\n",
      "探索建立数据产权制度，推动数据产权结构性分置和有序流通，结合数据要素特性强化高质量数据要素供给；在国家数据分类分级保护制度下，推进数据分类分级确权授权使用和市场化流通交易，健全数据要素权益保护制度，逐步形成具有中国特色的数据产权制度体系\n",
      "（三）探索数据产权结构性分置制度\n"
     ]
    }
   ],
   "source": [
    "policy_text = \"\"\n",
    "with open('policy.txt', 'r') as f:\n",
    "    policy_text = f.read()\n",
    "\n",
    "policy_text = policy_text.split('\\n')\n",
    "policy_text = [sentence for sentence in policy_text if sentence != '']\n",
    "\n",
    "#split with '。', then combine them into a list\n",
    "policy_text = [sentence.split('。') for sentence in policy_text]\n",
    "policy_text = [sentence for sublist in policy_text for sentence in sublist]\n",
    "policy_text = [sentence.replace('\\t', ' ') for sentence in policy_text]\n",
    "policy_text = [sentence for sentence in policy_text if sentence != '']\n",
    "\n",
    "for i in policy_text[:30]:\n",
    "    print(i)"
   ]
  },
  {
   "cell_type": "code",
   "execution_count": 48,
   "metadata": {},
   "outputs": [
    {
     "name": "stdout",
     "output_type": "stream",
     "text": [
      "{'gold_label': '1', 'sentence1': '数据作为新型生产要素', 'sentence2': '是数字化、网络化、智能化的基础', 'ID': '0'}\n",
      "{'gold_label': '1', 'sentence1': '是数字化、网络化、智能化的基础', 'sentence2': '已快速融入生产、分配、流通、消费和社会服务管理等各环节', 'ID': '1'}\n",
      "{'gold_label': '1', 'sentence1': '已快速融入生产、分配、流通、消费和社会服务管理等各环节', 'sentence2': '深刻改变着生产方式、生活方式和社会治理方式', 'ID': '2'}\n",
      "{'gold_label': '1', 'sentence1': '为加快构建数据基础制度', 'sentence2': '充分发挥我国海量数据规模和丰富应用场景优势', 'ID': '3'}\n",
      "{'gold_label': '1', 'sentence1': '充分发挥我国海量数据规模和丰富应用场景优势', 'sentence2': '激活数据要素潜能', 'ID': '4'}\n",
      "{'gold_label': '1', 'sentence1': '激活数据要素潜能', 'sentence2': '做强做优做大数字经济', 'ID': '5'}\n",
      "{'gold_label': '1', 'sentence1': '做强做优做大数字经济', 'sentence2': '增强经济发展新动能', 'ID': '6'}\n",
      "{'gold_label': '1', 'sentence1': '增强经济发展新动能', 'sentence2': '构筑国家竞争新优势', 'ID': '7'}\n",
      "{'gold_label': '1', 'sentence1': '构筑国家竞争新优势', 'sentence2': '现提出如下意见', 'ID': '8'}\n",
      "{'gold_label': '1', 'sentence1': '以习近平新时代中国特色社会主义思想为指导', 'sentence2': '深入贯彻党的二十大精神', 'ID': '9'}\n",
      "{'gold_label': '1', 'sentence1': '深入贯彻党的二十大精神', 'sentence2': '完整、准确、全面贯彻新发展理念', 'ID': '10'}\n",
      "{'gold_label': '1', 'sentence1': '完整、准确、全面贯彻新发展理念', 'sentence2': '加快构建新发展格局', 'ID': '11'}\n",
      "{'gold_label': '1', 'sentence1': '加快构建新发展格局', 'sentence2': '坚持改革创新、系统谋划', 'ID': '12'}\n",
      "{'gold_label': '1', 'sentence1': '坚持改革创新、系统谋划', 'sentence2': '以维护国家数据安全、保护个人信息和商业秘密为前提', 'ID': '13'}\n",
      "{'gold_label': '1', 'sentence1': '以维护国家数据安全、保护个人信息和商业秘密为前提', 'sentence2': '以促进数据合规高效流通使用、赋能实体经济为主线', 'ID': '14'}\n",
      "{'gold_label': '1', 'sentence1': '以促进数据合规高效流通使用、赋能实体经济为主线', 'sentence2': '以数据产权、流通交易、收益分配、安全治理为重点', 'ID': '15'}\n",
      "{'gold_label': '1', 'sentence1': '以数据产权、流通交易、收益分配、安全治理为重点', 'sentence2': '深入参与国际高标准数字规则制定', 'ID': '16'}\n",
      "{'gold_label': '1', 'sentence1': '深入参与国际高标准数字规则制定', 'sentence2': '构建适应数据特征、符合数字经济发展规律、保障国家数据安全、彰显创新引领的数据基础制度', 'ID': '17'}\n",
      "{'gold_label': '1', 'sentence1': '构建适应数据特征、符合数字经济发展规律、保障国家数据安全、彰显创新引领的数据基础制度', 'sentence2': '充分实现数据要素价值、促进全体人民共享数字经济发展红利', 'ID': '18'}\n",
      "{'gold_label': '1', 'sentence1': '充分实现数据要素价值、促进全体人民共享数字经济发展红利', 'sentence2': '为深化创新驱动、推动高质量发展、推进国家治理体系和治理能力现代化提供有力支撑', 'ID': '19'}\n",
      "{'gold_label': '1', 'sentence1': '——遵循发展规律', 'sentence2': '创新制度安排', 'ID': '20'}\n",
      "{'gold_label': '1', 'sentence1': '充分认识和把握数据产权、流通、交易、使用、分配、治理、安全等基本规律', 'sentence2': '探索有利于数据安全保护、有效利用、合规流通的产权制度和市场体系', 'ID': '21'}\n",
      "{'gold_label': '1', 'sentence1': '探索有利于数据安全保护、有效利用、合规流通的产权制度和市场体系', 'sentence2': '完善数据要素市场体制机制', 'ID': '22'}\n",
      "{'gold_label': '1', 'sentence1': '完善数据要素市场体制机制', 'sentence2': '在实践中完善', 'ID': '23'}\n",
      "{'gold_label': '1', 'sentence1': '在实践中完善', 'sentence2': '在探索中发展', 'ID': '24'}\n",
      "{'gold_label': '1', 'sentence1': '在探索中发展', 'sentence2': '促进形成与数字生产力相适应的新型生产关系', 'ID': '25'}\n",
      "{'gold_label': '1', 'sentence1': '——坚持共享共用', 'sentence2': '释放价值红利', 'ID': '26'}\n",
      "{'gold_label': '1', 'sentence1': '合理降低市场主体获取数据的门槛', 'sentence2': '增强数据要素共享性、普惠性', 'ID': '27'}\n",
      "{'gold_label': '1', 'sentence1': '增强数据要素共享性、普惠性', 'sentence2': '激励创新创业创造', 'ID': '28'}\n",
      "{'gold_label': '1', 'sentence1': '激励创新创业创造', 'sentence2': '强化反垄断和反不正当竞争', 'ID': '29'}\n",
      "len of positive pairs: 21979\n"
     ]
    }
   ],
   "source": [
    "# build positive pairs in json format: {\"gold_label\": \"1\", \"sentence1\": \"如何减少农药对人体的危害？\", \"sentence2\": \"怎样可以减少农药对人体的危害？\", \"ID\": \"208800\"}\n",
    "positive_pairs = []\n",
    "\n",
    "idx = 0\n",
    "for i in range(len(policy_text)):\n",
    "    if '，' in policy_text[i]:\n",
    "        sentence_count = policy_text[i].count('，')\n",
    "        for j in range(sentence_count):\n",
    "            positive_pairs.append({\"gold_label\": \"1\", \"sentence1\": policy_text[i].split('，')[j], \"sentence2\": policy_text[i].split('，')[j+1], \"ID\": str(idx)})\n",
    "            idx += 1\n",
    "\n",
    "for i in positive_pairs[:30]:\n",
    "    print(i)\n",
    "\n",
    "print(f'len of positive pairs: {len(positive_pairs)}')"
   ]
  },
  {
   "cell_type": "code",
   "execution_count": 49,
   "metadata": {},
   "outputs": [
    {
     "name": "stdout",
     "output_type": "stream",
     "text": [
      "{'gold_label': '0', 'sentence1': '数据作为新型生产要素', 'sentence2': '推动协同制造', 'ID': '21979'}\n",
      "{'gold_label': '0', 'sentence1': '是数字化、网络化、智能化的基础', 'sentence2': '这种价值由于互联网技术的采用而在公司和行业之间产生和转移）估计为 29.7 万亿美元8', 'ID': '21980'}\n",
      "{'gold_label': '0', 'sentence1': '已快速融入生产、分配、流通、消费和社会服务管理等各环节', 'sentence2': '鼓励非公共数据以市场化方式授权使用、获取收益', 'ID': '21981'}\n",
      "{'gold_label': '0', 'sentence1': '为加快构建数据基础制度', 'sentence2': '推广应用电子保函', 'ID': '21982'}\n",
      "{'gold_label': '0', 'sentence1': '充分发挥我国海量数据规模和丰富应用场景优势', 'sentence2': '可能影响国家安全的', 'ID': '21983'}\n",
      "{'gold_label': '0', 'sentence1': '激活数据要素潜能', 'sentence2': '负责“津心办”数字社会综合应用平台（政务服务办事模块）与“政务一网通”的融合建设、提升完善、拓展应用、事项运维', 'ID': '21984'}\n",
      "{'gold_label': '0', 'sentence1': '做强做优做大数字经济', 'sentence2': '推进自治区骨干网、城域网的扩容和升级', 'ID': '21985'}\n",
      "{'gold_label': '0', 'sentence1': '增强经济发展新动能', 'sentence2': '保障网络信息依法有序自由流动', 'ID': '21986'}\n",
      "{'gold_label': '0', 'sentence1': '构筑国家竞争新优势', 'sentence2': '围绕粤港澳三地居民出行、通关、通信、支付、求职、养老、医疗、教育、保险、吃住游等场景和习惯', 'ID': '21987'}\n",
      "{'gold_label': '0', 'sentence1': '以习近平新时代中国特色社会主义思想为指导', 'sentence2': '营造公平竞争、规范有序的市场环境', 'ID': '21988'}\n",
      "{'gold_label': '0', 'sentence1': '深入贯彻党的二十大精神', 'sentence2': '或者香港特别行政区政府创新科技及工业局、政府资讯科技总监办公室、香港个人资料私隐专员公署', 'ID': '21989'}\n",
      "{'gold_label': '0', 'sentence1': '完整、准确、全面贯彻新发展理念', 'sentence2': '探索个人数据在个人信息保护法框架下合规使用的方法路径', 'ID': '21990'}\n",
      "{'gold_label': '0', 'sentence1': '加快构建新发展格局', 'sentence2': '对数据的及时性与准确性要求都比较高', 'ID': '21991'}\n",
      "{'gold_label': '0', 'sentence1': '坚持改革创新、系统谋划', 'sentence2': ' 加强数据治理', 'ID': '21992'}\n",
      "{'gold_label': '0', 'sentence1': '以维护国家数据安全、保护个人信息和商业秘密为前提', 'sentence2': '落实数据关联对象的知情权、决定权', 'ID': '21993'}\n",
      "{'gold_label': '0', 'sentence1': '以促进数据合规高效流通使用、赋能实体经济为主线', 'sentence2': '(省发展改革委、省工业和信息化厅、省通信管理局、省能源局', 'ID': '21994'}\n",
      "{'gold_label': '0', 'sentence1': '以数据产权、流通交易、收益分配、安全治理为重点', 'sentence2': '以便及时更新目录', 'ID': '21995'}\n",
      "{'gold_label': '0', 'sentence1': '深入参与国际高标准数字规则制定', 'sentence2': '为融合应用提供数据流通基础服务', 'ID': '21996'}\n",
      "{'gold_label': '0', 'sentence1': '构建适应数据特征、符合数字经济发展规律、保障国家数据安全、彰显创新引领的数据基础制度', 'sentence2': '服务大局', 'ID': '21997'}\n",
      "{'gold_label': '0', 'sentence1': '充分实现数据要素价值、促进全体人民共享数字经济发展红利', 'sentence2': '支持研发计算机辅助设计与仿真、制造执行系统、企业管理系统、产品全生命周期管理等工业软件及应用解决方案', 'ID': '21998'}\n",
      "{'gold_label': '0', 'sentence1': '——遵循发展规律', 'sentence2': '建设30个具有竞争力的工业互联网平台', 'ID': '21999'}\n",
      "{'gold_label': '0', 'sentence1': '充分认识和把握数据产权、流通、交易、使用、分配、治理、安全等基本规律', 'sentence2': '\\u3000\\u3000第十九条 科技伦理（审查）委员会应对审查批准的科技活动开展伦理跟踪审查', 'ID': '22000'}\n",
      "{'gold_label': '0', 'sentence1': '探索有利于数据安全保护、有效利用、合规流通的产权制度和市场体系', 'sentence2': '我国建成了全球规模最大、技术领先、性能优越的数字基础设施', 'ID': '22001'}\n",
      "{'gold_label': '0', 'sentence1': '完善数据要素市场体制机制', 'sentence2': '“数据二十条”以解决市场主体遇到的实际问题为导向', 'ID': '22002'}\n",
      "{'gold_label': '0', 'sentence1': '在实践中完善', 'sentence2': '加快释放数据要素价值', 'ID': '22003'}\n",
      "{'gold_label': '0', 'sentence1': '在探索中发展', 'sentence2': '并积累了丰富的经验', 'ID': '22004'}\n",
      "{'gold_label': '0', 'sentence1': '——坚持共享共用', 'sentence2': '其中省级平台 17 个', 'ID': '22005'}\n",
      "{'gold_label': '0', 'sentence1': '合理降低市场主体获取数据的门槛', 'sentence2': '有利于构建更加公平合理、开放包容、安全稳定、富有生机活力的网络空间', 'ID': '22006'}\n",
      "{'gold_label': '0', 'sentence1': '增强数据要素共享性、普惠性', 'sentence2': '创建、复制、捕获和消费产生的数据总量', 'ID': '22007'}\n",
      "{'gold_label': '0', 'sentence1': '激励创新创业创造', 'sentence2': '2020(4):37-53.', 'ID': '22008'}\n",
      "len of negative pairs: 21979\n"
     ]
    }
   ],
   "source": [
    "# build negative pairs in json format: {\"gold_label\": \"0\", \"sentence1\": \"孕妇吃菠菜好吗\", \"sentence2\": \"孕妇可以吃炒菠菜吗\", \"ID\": \"208799\"}\n",
    "# 80% randomly select a sentence from policy_text as sentence1, then randomly select another sentence from policy_text as sentence2\n",
    "# 20% interchage the order of sentence1 and sentence2\n",
    "\n",
    "negative_pairs = []\n",
    "sentence_set = set()\n",
    "idx = len(positive_pairs)\n",
    "for pair in positive_pairs:\n",
    "    sentence_set.add(pair['sentence1'])\n",
    "    sentence_set.add(pair['sentence2'])\n",
    "\n",
    "for i in range(len(positive_pairs)):\n",
    "    if True :\n",
    "        sentence1 = positive_pairs[i]['sentence1']\n",
    "        sentence2 = positive_pairs[i]['sentence2']\n",
    "        sentence2_temp = random.choice(list(sentence_set))\n",
    "        while sentence2_temp == sentence2:\n",
    "            sentence2_temp = random.choice(list(sentence_set))\n",
    "        negative_pairs.append({\"gold_label\": \"0\", \"sentence1\": sentence1, \"sentence2\": sentence2_temp, \"ID\": str(idx)})\n",
    "        idx += 1\n",
    "\n",
    "    else:\n",
    "        negative_pairs.append({\"gold_label\": \"0\", \"sentence1\": positive_pairs[i]['sentence2'], \"sentence2\": positive_pairs[i]['sentence1'], \"ID\": str(idx)})\n",
    "        idx += 1\n",
    "\n",
    "for i in negative_pairs[:30]:\n",
    "    print(i)\n",
    "\n",
    "print(f'len of negative pairs: {len(negative_pairs)}')\n"
   ]
  },
  {
   "cell_type": "code",
   "execution_count": 50,
   "metadata": {},
   "outputs": [
    {
     "name": "stdout",
     "output_type": "stream",
     "text": [
      "{'gold_label': '1', 'sentence1': '以数据为新生产要素的数字经济蓬勃发展', 'sentence2': '数据的竞争已成为国际竞争的重要领域', 'ID': '0'}\n",
      "{'gold_label': '1', 'sentence1': '没收违法所得', 'sentence2': '处五万元以上五十万元以下罚款', 'ID': '1'}\n",
      "{'gold_label': '1', 'sentence1': '依法给予治安管理处罚；构成犯罪的', 'sentence2': '依法追究刑事责任', 'ID': '2'}\n",
      "{'gold_label': '0', 'sentence1': '行业主管部门要聚焦重点行业数据开发利用需求', 'sentence2': '对于推进数字化、智能化及可持续发展至关重要', 'ID': '3'}\n",
      "{'gold_label': '1', 'sentence1': '中西部地区虽然与东部区域仍存在一定差异', 'sentence2': '但在国家战略下正在加快追赶速度', 'ID': '4'}\n",
      "{'gold_label': '1', 'sentence1': '落实党中央部署要求', 'sentence2': '制定一部个人信息保护方面的专门法律', 'ID': '5'}\n",
      "{'gold_label': '1', 'sentence1': '加强上海数据交易所全球推介', 'sentence2': '支持建设亚洲数据要素市场研究院', 'ID': '6'}\n",
      "{'gold_label': '1', 'sentence1': '推动部门信息资源高效互通共享', 'sentence2': '全面实现应急管理数字化、网络化、智能化', 'ID': '7'}\n",
      "{'gold_label': '0', 'sentence1': '对于适用专家复核程序的科技活动', 'sentence2': '而是通过政府来源、商业来源和其他公开可用来源等途径收集个人数据等并转让、共享给他人', 'ID': '8'}\n",
      "{'gold_label': '1', 'sentence1': '即1995年开始实施的《信用信息的利用及保护法》、2001年开始实施的《信息通信网络利用促进及信息保护法》、2011年开始实施的《个人信息保护法》', 'sentence2': '并以专门领域立法中个人信息保护相关的法律规范作为必要的补充', 'ID': '9'}\n",
      "{'gold_label': '1', 'sentence1': '（牵头单位：市工业和信息化局；配合单位：市发展改革委、市科技局）深化与国内大院名校合作', 'sentence2': '推进科研力量优化配置和资源共享', 'ID': '10'}\n",
      "{'gold_label': '0', 'sentence1': '市大数据中心开展公共数据资产登记工作', 'sentence2': '各类主体不断涌现', 'ID': '11'}\n",
      "{'gold_label': '1', 'sentence1': '健全监管规则', 'sentence2': '补齐制度短板', 'ID': '12'}\n",
      "{'gold_label': '1', 'sentence1': '从数据管理维度来看', 'sentence2': '面向人工智能的数据治理体系仍会根据数据结构化流向、数据资产管理需要、数据安全需求等角度顺应搭建元数据管理、数据资产管理、主数据管理、数据生命周期管理和数据安全隐私管理等组件模块', 'ID': '13'}\n",
      "{'gold_label': '0', 'sentence1': '发展一批数字技术开源社区、开源项目', 'sentence2': '2 工业和信息化部', 'ID': '14'}\n",
      "{'gold_label': '0', 'sentence1': '其中', 'sentence2': '说明在近年省级与副省级城市平台建设的模范效应下', 'ID': '15'}\n",
      "{'gold_label': '0', 'sentence1': '通过发挥各类社会媒介的宣传作用', 'sentence2': '初步搭建起网络安全、数据安全、个人信息保护的基本框架体系', 'ID': '16'}\n",
      "{'gold_label': '1', 'sentence1': '由有关主管部门责令改正', 'sentence2': '给予警告', 'ID': '17'}\n",
      "{'gold_label': '0', 'sentence1': '因其包括重大的市场风险', 'sentence2': '加强信息技术沟通对接', 'ID': '18'}\n",
      "{'gold_label': '0', 'sentence1': '防止危害扩大', 'sentence2': '推进呼和浩特市、乌兰察布市、鄂尔多斯市等数据中心建设', 'ID': '19'}\n",
      "{'gold_label': '0', 'sentence1': '俄罗斯也希望通过数据本地化存储加强政府执法权和对数据的控制力', 'sentence2': '第四条 数据处理者向境外提供数据', 'ID': '20'}\n",
      "{'gold_label': '1', 'sentence1': '应该是国家一般禁止的行为', 'sentence2': '但国家为了促进数据开发利用', 'ID': '21'}\n",
      "{'gold_label': '0', 'sentence1': '以数字政府建设为核心', 'sentence2': '加快5G网络建设', 'ID': '22'}\n",
      "{'gold_label': '1', 'sentence1': '发挥数据要素的放大、叠加、倍增作用', 'sentence2': '构建以数据为关键要素的数字经济', 'ID': '23'}\n",
      "{'gold_label': '1', 'sentence1': '公司持有该股票达到相关上市公司已发行股份1%以上的', 'sentence2': '应当在证券研究报告中向客户披露本公司持有该股票的情况', 'ID': '24'}\n",
      "{'gold_label': '0', 'sentence1': '包括科技活动方案', 'sentence2': '依托人工智能、数字孪生等技术', 'ID': '25'}\n",
      "{'gold_label': '1', 'sentence1': '例如', 'sentence2': '重新界定政府数据开放的常见术语', 'ID': '26'}\n",
      "{'gold_label': '1', 'sentence1': '坚持外引内培并举', 'sentence2': '优化市场主体结构、扩大市场主体规模、提升市场主体活跃度', 'ID': '27'}\n",
      "{'gold_label': '0', 'sentence1': '加强对本规划实施的组织、协调和督导', 'sentence2': '推动文物、古籍、美术、戏曲剧种、非物质文化遗产、民族民间文艺等数据资源依法开放共享和交易流通', 'ID': '28'}\n",
      "{'gold_label': '0', 'sentence1': '鼓励企业围绕种养业、制造业、物流运输、医疗、教育等产业领域实施基础设施数字化融合改造', 'sentence2': '2020 年 4 月', 'ID': '29'}\n",
      "len of datapool: 43958\n"
     ]
    }
   ],
   "source": [
    "# create a datapool with positive and negative pairs\n",
    "datapool = positive_pairs + negative_pairs\n",
    "random.shuffle(datapool)\n",
    "# redefine the ID\n",
    "for i in range(len(datapool)):\n",
    "    datapool[i]['ID'] = str(i)\n",
    "\n",
    "for i in datapool[:30]:\n",
    "    print(i)\n",
    "\n",
    "print(f'len of datapool: {len(datapool)}')"
   ]
  },
  {
   "cell_type": "code",
   "execution_count": 51,
   "metadata": {},
   "outputs": [
    {
     "name": "stdout",
     "output_type": "stream",
     "text": [
      "len of datapool_train: 40282\n",
      "len of datapool_dev: 1831\n",
      "len of datapool_test: 1845\n",
      "data left: 0\n"
     ]
    }
   ],
   "source": [
    "# split policy_train.json, policy_dev.json, policy_test.json with 12:1:1\n",
    "train_size = len(datapool) // 24 * 22\n",
    "dev_size = len(datapool) // 24\n",
    "test_size = len(datapool) - train_size - dev_size\n",
    "\n",
    "datapool_train = datapool[:train_size]\n",
    "datapool_dev = datapool[train_size:train_size+dev_size]\n",
    "datapool_test = datapool[train_size+dev_size:]\n",
    "\n",
    "print(f'len of datapool_train: {len(datapool_train)}')\n",
    "print(f'len of datapool_dev: {len(datapool_dev)}')\n",
    "print(f'len of datapool_test: {len(datapool_test)}')\n",
    "\n",
    "print(f\"data left: {len(datapool) - len(datapool_train) - len(datapool_dev) - len(datapool_test)}\")"
   ]
  },
  {
   "cell_type": "code",
   "execution_count": null,
   "metadata": {},
   "outputs": [],
   "source": [
    "# # write to json file\n",
    "# import json\n",
    "# with open('/Users/pu_ht/src/ZEN/datasets/policy_SM/policy_train.json', 'w') as f:\n",
    "#     json.dump(datapool_train, f, indent=4, ensure_ascii=False)\n",
    "\n",
    "# with open('/Users/pu_ht/src/ZEN/datasets/policy_SM/policy_dev.json', 'w') as f:\n",
    "#     json.dump(datapool_dev, f, indent=4, ensure_ascii=False)\n",
    "\n",
    "# with open('/Users/pu_ht/src/ZEN/datasets/policy_SM/policy_test.json', 'w') as f:\n",
    "#     json.dump(datapool_test, f, indent=4, ensure_ascii=False)\n",
    "\n",
    "# with open ('/Users/pu_ht/src/ZEN/datasets/policy_SM/datapool.json', 'w') as f:\n",
    "#     json.dump(datapool, f, indent=4, ensure_ascii=False)\n",
    "\n",
    "# print('done')"
   ]
  },
  {
   "cell_type": "code",
   "execution_count": 54,
   "metadata": {},
   "outputs": [
    {
     "name": "stdout",
     "output_type": "stream",
     "text": [
      "done\n"
     ]
    }
   ],
   "source": [
    "# write to tsv\n",
    "import csv\n",
    "\n",
    "with open('/Users/pu_ht/src/ZEN/datasets/policy_SM/train.tsv', 'w') as f:\n",
    "    writer = csv.writer(f, delimiter='\\t')\n",
    "    # writer.writerow(['sentence1', 'sentence2', 'gold_label', 'ID'])\n",
    "    for i in range(len(datapool_train)):\n",
    "        writer.writerow([datapool_train[i]['sentence1'], datapool_train[i]['sentence2'], datapool_train[i]['gold_label'], datapool_train[i]['ID']])\n",
    "\n",
    "with open('/Users/pu_ht/src/ZEN/datasets/policy_SM/dev.tsv', 'w') as f:\n",
    "    writer = csv.writer(f, delimiter='\\t')\n",
    "    # writer.writerow(['sentence1', 'sentence2', 'gold_label', 'ID'])\n",
    "    for i in range(len(datapool_dev)):\n",
    "        writer.writerow([datapool_dev[i]['sentence1'], datapool_dev[i]['sentence2'], datapool_dev[i]['gold_label'], datapool_dev[i]['ID']])\n",
    "\n",
    "with open('/Users/pu_ht/src/ZEN/datasets/policy_SM/test.tsv', 'w') as f:\n",
    "    writer = csv.writer(f, delimiter='\\t')\n",
    "    # writer.writerow(['sentence1', 'sentence2', 'gold_label', 'ID'])\n",
    "    for i in range(len(datapool_test)):\n",
    "        writer.writerow([datapool_test[i]['sentence1'], datapool_test[i]['sentence2'], datapool_test[i]['gold_label'], datapool_test[i]['ID']])\n",
    "\n",
    "with open('/Users/pu_ht/src/ZEN/datasets/policy_SM/datapool.tsv', 'w') as f:\n",
    "    writer = csv.writer(f, delimiter='\\t')\n",
    "    # writer.writerow(['sentence1', 'sentence2', 'gold_label', 'ID'])\n",
    "    for i in range(len(datapool)):\n",
    "        writer.writerow([datapool[i]['sentence1'], datapool[i]['sentence2'], datapool[i]['gold_label'], datapool[i]['ID']]) \n",
    "                        \n",
    "print('done')"
   ]
  },
  {
   "cell_type": "code",
   "execution_count": null,
   "metadata": {},
   "outputs": [],
   "source": []
  }
 ],
 "metadata": {
  "kernelspec": {
   "display_name": "venv",
   "language": "python",
   "name": "python3"
  },
  "language_info": {
   "codemirror_mode": {
    "name": "ipython",
    "version": 3
   },
   "file_extension": ".py",
   "mimetype": "text/x-python",
   "name": "python",
   "nbconvert_exporter": "python",
   "pygments_lexer": "ipython3",
   "version": "3.10.16"
  }
 },
 "nbformat": 4,
 "nbformat_minor": 2
}
