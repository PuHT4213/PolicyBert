{
 "cells": [
  {
   "cell_type": "code",
   "execution_count": 6,
   "metadata": {},
   "outputs": [],
   "source": [
    "import pandas as pd\n",
    "import random\n",
    "import re"
   ]
  },
  {
   "cell_type": "code",
   "execution_count": 2,
   "metadata": {},
   "outputs": [
    {
     "data": {
      "text/plain": [
       "'\\n{\"gold_label\": \"0\", \"sentence1\": \"孕妇吃菠菜好吗\", \"sentence2\": \"孕妇可以吃炒菠菜吗\", \"ID\": \"208799\"}\\n{\"gold_label\": \"1\", \"sentence1\": \"如何减少农药对人体的危害？\", \"sentence2\": \"怎样可以减少农药对人体的危害？\", \"ID\": \"208800\"}\\n'"
      ]
     },
     "execution_count": 2,
     "metadata": {},
     "output_type": "execute_result"
    }
   ],
   "source": [
    "'''\n",
    "{\"gold_label\": \"0\", \"sentence1\": \"孕妇吃菠菜好吗\", \"sentence2\": \"孕妇可以吃炒菠菜吗\", \"ID\": \"208799\"}\n",
    "{\"gold_label\": \"1\", \"sentence1\": \"如何减少农药对人体的危害？\", \"sentence2\": \"怎样可以减少农药对人体的危害？\", \"ID\": \"208800\"}\n",
    "'''"
   ]
  },
  {
   "cell_type": "code",
   "execution_count": 3,
   "metadata": {},
   "outputs": [
    {
     "name": "stdout",
     "output_type": "stream",
     "text": [
      "passages: 99\n"
     ]
    }
   ],
   "source": [
    "passages = []\n",
    "with open(\"policy_single_sentence_bydoc.txt\", \"r\", encoding=\"utf-8\") as f:\n",
    "    policy_text = f.readlines()\n",
    "    passage = []\n",
    "    for line in policy_text:\n",
    "        line = line.strip()\n",
    "        if line == \"##21kknaehfal##\" and len(passage) > 0:\n",
    "            passages.append(passage)\n",
    "            passage = []\n",
    "        elif line != \"##21kknaehfal##\" and len(line.strip()) > 0:\n",
    "            passage.append(line.strip())\n",
    "    if len(passage) > 0:\n",
    "        passages.append(passage)\n",
    "print(\"passages:\", len(passages))\n",
    "\n"
   ]
  },
  {
   "cell_type": "code",
   "execution_count": 9,
   "metadata": {},
   "outputs": [
    {
     "name": "stdout",
     "output_type": "stream",
     "text": [
      "policy_passages: 97\n",
      "policy_passages: ['中共中央 国务院关于构建数据基础制度更好发挥数据要素作用的意见', '新华社北京12月19日电', '中共中央 国务院关于构建数据基础制度更好发挥数据要素作用的意见', '（2022年12月2日）', '数据作为新型生产要素，是数字化、网络化、智能化的基础，已快速融入生产、分配、流通、消费和社会服务管理等各环节，深刻改变着生产方式、生活方式和社会治理方式', '数据基础制度建设事关国家发展和安全大局', '为加快构建数据基础制度，充分发挥我国海量数据规模和丰富应用场景优势，激活数据要素潜能，做强做优做大数字经济，增强经济发展新动能，构筑国家竞争新优势，现提出如下意见', '一、总体要求', '（一）指导思想', '以习近平新时代中国特色社会主义思想为指导，深入贯彻党的二十大精神，完整、准确、全面贯彻新发展理念，加快构建新发展格局，坚持改革创新、系统谋划，以维护国家数据安全、保护个人信息和商业秘密为前提，以促进数据合规高效流通使用、赋能实体经济为主线，以数据产权、流通交易、收益分配、安全治理为重点，深入参与国际高标准数字规则制定，构建适应数据特征、符合数字经济发展规律、保障国家数据安全、彰显创新引领的数据基础制度，充分实现数据要素价值、促进全体人民共享数字经济发展红利，为深化创新驱动、推动高质量发展、推进国家治理体系和治理能力现代化提供有力支撑', '（二）工作原则', '——遵循发展规律，创新制度安排', '充分认识和把握数据产权、流通、交易、使用、分配、治理、安全等基本规律，探索有利于数据安全保护、有效利用、合规流通的产权制度和市场体系，完善数据要素市场体制机制，在实践中完善，在探索中发展，促进形成与数字生产力相适应的新型生产关系', '——坚持共享共用，释放价值红利', '合理降低市场主体获取数据的门槛，增强数据要素共享性、普惠性，激励创新创业创造，强化反垄断和反不正当竞争，形成依法规范、共同参与、各取所需、共享红利的发展模式', '——强化优质供给，促进合规流通', '顺应经济社会数字化转型发展趋势，推动数据要素供给调整优化，提高数据要素供给数量和质量', '建立数据可信流通体系，增强数据的可用、可信、可流通、可追溯水平', '实现数据流通全过程动态管理，在合规流通使用中激活数据价值', '——完善治理体系，保障安全发展', '统筹发展和安全，贯彻总体国家安全观，强化数据安全保障体系建设，把安全贯穿数据供给、流通、使用全过程，划定监管底线和红线', '加强数据分类分级管理，把该管的管住、该放的放开，积极有效防范和化解各种数据风险，形成政府监管与市场自律、法治与行业自治协同、国内与国际统筹的数据要素治理结构', '——深化开放合作，实现互利共赢', '积极参与数据跨境流动国际规则制定，探索加入区域性国际数据跨境流动制度安排', '推动数据跨境流动双边多边协商，推进建立互利互惠的规则等制度安排', '鼓励探索数据跨境流动与合作的新途径新模式', '二、建立保障权益、合规使用的数据产权制度', '探索建立数据产权制度，推动数据产权结构性分置和有序流通，结合数据要素特性强化高质量数据要素供给；在国家数据分类分级保护制度下，推进数据分类分级确权授权使用和市场化流通交易，健全数据要素权益保护制度，逐步形成具有中国特色的数据产权制度体系', '（三）探索数据产权结构性分置制度', '建立公共数据、企业数据、个人数据的分类分级确权授权制度', '根据数据来源和数据生成特征，分别界定数据生产、流通、使用过程中各参与方享有的合法权利，建立数据资源持有权、数据加工使用权、数据产品经营权等分置的产权运行机制，推进非公共数据按市场化方式“共同使用、共享收益”的新模式，为激活数据要素价值创造和价值实现提供基础性制度保障', '研究数据产权登记新方式', '在保障安全前提下，推动数据处理者依法依规对原始数据进行开发利用，支持数据处理者依法依规行使数据应用相关权利，促进数据使用价值复用与充分利用，促进数据使用权交换和市场化流通', '审慎对待原始数据的流转交易行为', '（四）推进实施公共数据确权授权机制', '对各级党政机关、企事业单位依法履职或提供公共服务过程中产生的公共数据，加强汇聚共享和开放开发，强化统筹授权使用和管理，推进互联互通，打破“数据孤岛”', '鼓励公共数据在保护个人隐私和确保公共安全的前提下，按照“原始数据不出域、数据可用不可见”的要求，以模型、核验等产品和服务等形式向社会提供，对不承载个人信息和不影响公共安全的公共数据，推动按用途加大供给使用范围', '推动用于公共治理、公益事业的公共数据有条件无偿使用，探索用于产业发展、行业发展的公共数据有条件有偿使用', '依法依规予以保密的公共数据不予开放，严格管控未依法依规公开的原始公共数据直接进入市场，保障公共数据供给使用的公共利益', '（五）推动建立企业数据确权授权机制', '对各类市场主体在生产经营活动中采集加工的不涉及个人信息和公共利益的数据，市场主体享有依法依规持有、使用、获取收益的权益，保障其投入的劳动和其他要素贡献获得合理回报，加强数据要素供给激励', '鼓励探索企业数据授权使用新模式，发挥国有企业带头作用，引导行业龙头企业、互联网平台企业发挥带动作用，促进与中小微企业双向公平授权，共同合理使用数据，赋能中小微企业数字化转型', '支持第三方机构、中介服务组织加强数据采集和质量评估标准制定，推动数据产品标准化，发展数据分析、数据服务等产业', '政府部门履职可依法依规获取相关企业和机构数据，但须约定并严格遵守使用限制要求', '（六）建立健全个人信息数据确权授权机制', '对承载个人信息的数据，推动数据处理者按照个人授权范围依法依规采集、持有、托管和使用数据，规范对个人信息的处理活动，不得采取“一揽子授权”、强制同意等方式过度收集个人信息，促进个人信息合理利用', '探索由受托者代表个人利益，监督市场主体对个人信息数据进行采集、加工、使用的机制', '对涉及国家安全的特殊个人信息数据，可依法依规授权有关单位使用', '加大个人信息保护力度，推动重点行业建立完善长效保护机制，强化企业主体责任，规范企业采集使用个人信息行为', '创新技术手段，推动个人信息匿名化处理，保障使用个人信息数据时的信息安全和个人隐私', '（七）建立健全数据要素各参与方合法权益保护制度', '充分保护数据来源者合法权益，推动基于知情同意或存在法定事由的数据流通使用模式，保障数据来源者享有获取或复制转移由其促成产生数据的权益', '合理保护数据处理者对依法依规持有的数据进行自主管控的权益', '在保护公共利益、数据安全、数据来源者合法权益的前提下，承认和保护依照法律规定或合同约定获取的数据加工使用权，尊重数据采集、加工等数据处理者的劳动和其他要素贡献，充分保障数据处理者使用数据和获得收益的权利', '保护经加工、分析等形成数据或数据衍生产品的经营权，依法依规规范数据处理者许可他人使用数据或数据衍生产品的权利，促进数据要素流通复用', '建立健全基于法律规定或合同约定流转数据相关财产性权益的机制', '在数据处理者发生合并、分立、解散、被宣告破产时，推动相关权利和义务依法依规同步转移', '三、建立合规高效、场内外结合的数据要素流通和交易制度', '完善和规范数据流通规则，构建促进使用和流通、场内场外相结合的交易制度体系，规范引导场外交易，培育壮大场内交易；有序发展数据跨境流通和交易，建立数据来源可确认、使用范围可界定、流通过程可追溯、安全风险可防范的数据可信流通体系', '（八）完善数据全流程合规与监管规则体系', '建立数据流通准入标准规则，强化市场主体数据全流程合规治理，确保流通数据来源合法、隐私保护到位、流通和交易规范', '结合数据流通范围、影响程度、潜在风险，区分使用场景和用途用量，建立数据分类分级授权使用规范，探索开展数据质量标准化体系建设，加快推进数据采集和接口标准化，促进数据整合互通和互操作', '支持数据处理者依法依规在场内和场外采取开放、共享、交换、交易等方式流通数据', '鼓励探索数据流通安全保障技术、标准、方案', '支持探索多样化、符合数据要素特性的定价模式和价格形成机制，推动用于数字化发展的公共数据按政府指导定价有偿使用，企业与个人信息数据市场自主定价', '加强企业数据合规体系建设和监管，严厉打击黑市交易，取缔数据流通非法产业', '建立实施数据安全管理认证制度，引导企业通过认证提升数据安全管理水平', '（九）统筹构建规范高效的数据交易场所', '加强数据交易场所体系设计，统筹优化数据交易场所的规划布局，严控交易场所数量', '出台数据交易场所管理办法，建立健全数据交易规则，制定全国统一的数据交易、安全等标准体系，降低交易成本', '引导多种类型的数据交易场所共同发展，突出国家级数据交易场所合规监管和基础服务功能，强化其公共属性和公益定位，推进数据交易场所与数据商功能分离，鼓励各类数据商进场交易', '规范各地区各部门设立的区域性数据交易场所和行业性数据交易平台，构建多层次市场交易体系，推动区域性、行业性数据流通使用', '促进区域性数据交易场所和行业性数据交易平台与国家级数据交易场所互联互通', '构建集约高效的数据流通基础设施，为场内集中交易和场外分散交易提供低成本、高效率、可信赖的流通环境', '（十）培育数据要素流通和交易服务生态', '围绕促进数据要素合规高效、安全有序流通和交易需要，培育一批数据商和第三方专业服务机构', '通过数据商，为数据交易双方提供数据产品开发、发布、承销和数据资产的合规化、标准化、增值化服务，促进提高数据交易效率', '在智能制造、节能降碳、绿色建造、新能源、智慧城市等重点领域，大力培育贴近业务需求的行业性、产业化数据商，鼓励多种所有制数据商共同发展、平等竞争', '有序培育数据集成、数据经纪、合规认证、安全审计、数据公证、数据保险、数据托管、资产评估、争议仲裁、风险评估、人才培训等第三方专业服务机构，提升数据流通和交易全流程服务能力', '（十一）构建数据安全合规有序跨境流通机制', '开展数据交互、业务互通、监管互认、服务共享等方面国际交流合作，推进跨境数字贸易基础设施建设，以《全球数据安全倡议》为基础，积极参与数据流动、数据安全、认证评估、数字货币等国际规则和数字技术标准制定', '坚持开放发展，推动数据跨境双向有序流动，鼓励国内外企业及组织依法依规开展数据跨境流动业务合作，支持外资依法依规进入开放领域，推动形成公平竞争的国际化市场', '针对跨境电商、跨境支付、供应链管理、服务外包等典型应用场景，探索安全规范的数据跨境流动方式', '统筹数据开发利用和数据安全保护，探索建立跨境数据分类分级管理机制', '对影响或者可能影响国家安全的数据处理、数据跨境传输、外资并购等活动依法依规进行国家安全审查', '按照对等原则，对维护国家安全和利益、履行国际义务相关的属于管制物项的数据依法依规实施出口管制，保障数据用于合法用途，防范数据出境安全风险', '探索构建多渠道、便利化的数据跨境流动监管机制，健全多部门协调配合的数据跨境流动监管体系', '反对数据霸权和数据保护主义，有效应对数据领域“长臂管辖”', '四、建立体现效率、促进公平的数据要素收益分配制度', '顺应数字产业化、产业数字化发展趋势，充分发挥市场在资源配置中的决定性作用，更好发挥政府作用', '完善数据要素市场化配置机制，扩大数据要素市场化配置范围和按价值贡献参与分配渠道', '完善数据要素收益的再分配调节机制，让全体人民更好共享数字经济发展成果', '（十二）健全数据要素由市场评价贡献、按贡献决定报酬机制', '结合数据要素特征，优化分配结构，构建公平、高效、激励与规范相结合的数据价值分配机制', '坚持“两个毫不动摇”，按照“谁投入、谁贡献、谁受益”原则，着重保护数据要素各参与方的投入产出收益，依法依规维护数据资源资产权益，探索个人、企业、公共数据分享价值收益的方式，建立健全更加合理的市场评价机制，促进劳动者贡献和劳动报酬相匹配', '推动数据要素收益向数据价值和使用价值的创造者合理倾斜，确保在开发挖掘数据价值各环节的投入有相应回报，强化基于数据价值创造和价值实现的激励导向', '通过分红、提成等多种收益共享方式，平衡兼顾数据内容采集、加工、流通、应用等不同环节相关主体之间的利益分配', '（十三）更好发挥政府在数据要素收益分配中的引导调节作用', '逐步建立保障公平的数据要素收益分配体制机制，更加关注公共利益和相对弱势群体', '加大政府引导调节力度，探索建立公共数据资源开放收益合理分享机制，允许并鼓励各类企业依法依规依托公共数据提供公益服务', '推动大型数据企业积极承担社会责任，强化对弱势群体的保障帮扶，有力有效应对数字化转型过程中的各类风险挑战', '不断健全数据要素市场体系和制度规则，防止和依法依规规制资本在数据领域无序扩张形成市场垄断等问题', '统筹使用多渠道资金资源，开展数据知识普及和教育培训，提高社会整体数字素养，着力消除不同区域间、人群间数字鸿沟，增进社会公平、保障民生福祉、促进共同富裕', '五、建立安全可控、弹性包容的数据要素治理制度', '把安全贯穿数据治理全过程，构建政府、企业、社会多方协同的治理模式，创新政府治理方式，明确各方主体责任和义务，完善行业自律机制，规范市场发展秩序，形成有效市场和有为政府相结合的数据要素治理格局', '（十四）创新政府数据治理机制', '充分发挥政府有序引导和规范发展的作用，守住安全底线，明确监管红线，打造安全可信、包容创新、公平开放、监管有效的数据要素市场环境', '强化分行业监管和跨行业协同监管，建立数据联管联治机制，建立健全鼓励创新、包容创新的容错纠错机制', '建立数据要素生产流通使用全过程的合规公证、安全审查、算法审查、监测预警等制度，指导各方履行数据要素流通安全责任和义务', '建立健全数据流通监管制度，制定数据流通和交易负面清单，明确不能交易或严格限制交易的数据项', '强化反垄断和反不正当竞争，加强重点领域执法司法，依法依规加强经营者集中审查，依法依规查处垄断协议、滥用市场支配地位和违法实施经营者集中行为，营造公平竞争、规范有序的市场环境', '在落实网络安全等级保护制度的基础上全面加强数据安全保护工作，健全网络和数据安全保护体系，提升纵深防护与综合防御能力', '（十五）压实企业的数据治理责任', '坚持“宽进严管”原则，牢固树立企业的责任意识和自律意识', '鼓励企业积极参与数据要素市场建设，围绕数据来源、数据产权、数据质量、数据使用等，推行面向数据商及第三方专业服务机构的数据流通交易声明和承诺制', '严格落实相关法律规定，在数据采集汇聚、加工处理、流通交易、共享利用等各环节，推动企业依法依规承担相应责任', '企业应严格遵守反垄断法等相关法律规定，不得利用数据、算法等优势和技术手段排除、限制竞争，实施不正当竞争', '规范企业参与政府信息化建设中的政务数据安全管理，确保有规可循、有序发展、安全可控', '建立健全数据要素登记及披露机制，增强企业社会责任，打破“数据垄断”，促进公平竞争', '（十六）充分发挥社会力量多方参与的协同治理作用', '鼓励行业协会等社会力量积极参与数据要素市场建设，支持开展数据流通相关安全技术研发和服务，促进不同场景下数据要素安全可信流通', '建立数据要素市场信用体系，逐步完善数据交易失信行为认定、守信激励、失信惩戒、信用修复、异议处理等机制', '畅通举报投诉和争议仲裁渠道，维护数据要素市场良好秩序', '加快推进数据管理能力成熟度国家标准及数据要素管理规范贯彻执行工作，推动各部门各行业完善元数据管理、数据脱敏、数据质量、价值评估等标准体系', '六、保障措施', '加大统筹推进力度，强化任务落实，创新政策支持，鼓励有条件的地方和行业在制度建设、技术路径、发展模式等方面先行先试，鼓励企业创新内部数据合规管理体系，不断探索完善数据基础制度', '（十七）切实加强组织领导', '加强党对构建数据基础制度工作的全面领导，在党中央集中统一领导下，充分发挥数字经济发展部际联席会议作用，加强整体工作统筹，促进跨地区跨部门跨层级协同联动，强化督促指导', '各地区各部门要高度重视数据基础制度建设，统一思想认识，加大改革力度，结合各自实际，制定工作举措，细化任务分工，抓好推进落实', '（十八）加大政策支持力度', '加快发展数据要素市场，做大做强数据要素型企业', '提升金融服务水平，引导创业投资企业加大对数据要素型企业的投入力度，鼓励征信机构提供基于企业运营数据等多种数据要素的多样化征信服务，支持实体经济企业特别是中小微企业数字化转型赋能开展信用融资', '探索数据资产入表新模式', '（十九）积极鼓励试验探索', '坚持顶层设计与基层探索结合，支持浙江等地区和有条件的行业、企业先行先试，发挥好自由贸易港、自由贸易试验区等高水平开放平台作用，引导企业和科研机构推动数据要素相关技术和产业应用创新', '采用“揭榜挂帅”方式，支持有条件的部门、行业加快突破数据可信流通、安全治理等关键技术，建立创新容错机制，探索完善数据要素产权、定价、流通、交易、使用、分配、治理、安全的政策标准和体制机制，更好发挥数据要素的积极作用', '（二十）稳步推进制度建设', '围绕构建数据基础制度，逐步完善数据产权界定、数据流通和交易、数据要素收益分配、公共数据授权使用、数据交易场所建设、数据治理等主要领域关键环节的政策及标准', '加强数据产权保护、数据要素市场制度建设、数据要素价格形成机制、数据要素收益分配、数据跨境传输、争议解决等理论研究和立法研究，推动完善相关法律制度', '及时总结提炼可复制可推广的经验和做法，以点带面推动数据基础制度构建实现新突破', '数字经济发展部际联席会议定期对数据基础制度建设情况进行评估，适时进行动态调整，推动数据基础制度不断丰富完善']\n"
     ]
    }
   ],
   "source": [
    "policy_text = \"\"\n",
    "with open('policy.txt', 'r') as f:\n",
    "    policy_text = f.read()\n",
    "\n",
    "policy_text = policy_text.split('\\n')\n",
    "policy_text = [sentence for sentence in policy_text if sentence != '']\n",
    "\n",
    "#split with '。', then combine them into a list\n",
    "policy_text = [sentence.split('。') for sentence in policy_text]\n",
    "policy_text = [sentence for sublist in policy_text for sentence in sublist]\n",
    "policy_text = [sentence.replace('\\t', ' ') for sentence in policy_text]\n",
    "policy_text = [sentence for sentence in policy_text if sentence != '']\n",
    "\n",
    "# 用 “第x条政策” 切分text\n",
    "palate = re.compile(r'第\\d+条政策')\n",
    "policy_passages = []\n",
    "for text in policy_text:\n",
    "    if palate.search(text):\n",
    "        policy_passages.append([])\n",
    "    else:\n",
    "        policy_passages[-1].append(text)\n",
    "\n",
    "print(\"policy_passages:\", len(policy_passages))\n",
    "print(\"policy_passages:\", policy_passages[0])\n"
   ]
  },
  {
   "cell_type": "code",
   "execution_count": 11,
   "metadata": {},
   "outputs": [
    {
     "name": "stdout",
     "output_type": "stream",
     "text": [
      "positive_pairs: 23374\n",
      "{'gold_label': '1', 'sentence1': '新华社北京12月19日电中共中央国务院关于构建数据基础制度更好发挥数据要素作用的意见（2022年12月2日）数据作为新型生产要素', 'sentence2': '是数字化、网络化、智能化的基础', 'ID': '0'}\n",
      "{'gold_label': '1', 'sentence1': '是数字化、网络化、智能化的基础', 'sentence2': '已快速融入生产、分配、流通、消费和社会服务管理等各环节', 'ID': '1'}\n",
      "{'gold_label': '1', 'sentence1': '已快速融入生产、分配、流通、消费和社会服务管理等各环节', 'sentence2': '深刻改变着生产方式、生活方式和社会治理方式。', 'ID': '2'}\n",
      "{'gold_label': '1', 'sentence1': '为加快构建数据基础制度', 'sentence2': '充分发挥我国海量数据规模和丰富应用场景优势', 'ID': '3'}\n",
      "{'gold_label': '1', 'sentence1': '充分发挥我国海量数据规模和丰富应用场景优势', 'sentence2': '激活数据要素潜能', 'ID': '4'}\n"
     ]
    }
   ],
   "source": [
    "# build positive pairs in json format: {\"gold_label\": \"1\", \"sentence1\": \"如何减少农药对人体的危害？\", \"sentence2\": \"怎样可以减少农药对人体的危害？\", \"ID\": \"208800\"}\n",
    "positive_pairs = []\n",
    "\n",
    "idx = 0\n",
    "\n",
    "for passage in passages:\n",
    "    for sentence in passage:\n",
    "        if len(sentence) > 0 and '，' in sentence:\n",
    "            sentence_count = sentence.count('，')\n",
    "            splited = sentence.split('，')\n",
    "            for i in range(sentence_count):\n",
    "                positive_pairs.append({\"gold_label\": \"1\", \"sentence1\": splited[i], \"sentence2\": splited[i + 1], \"ID\": str(idx)})\n",
    "                idx += 1\n",
    "print(\"positive_pairs:\", len(positive_pairs))\n",
    "for i in range(5):\n",
    "    print(positive_pairs[i])\n",
    "                "
   ]
  },
  {
   "cell_type": "code",
   "execution_count": null,
   "metadata": {},
   "outputs": [],
   "source": [
    "negative_pairs = []\n",
    "ID_counter = len(positive_pairs)  # 用于构建 ID\n",
    "\n",
    "# 假设 policy_passages 是一个列表，每个元素是一个包含若干句子的列表\n",
    "x = 2\n",
    "for passage in policy_passages:\n",
    "    for i in range(len(passage) - x):\n",
    "        sent1 = passage[i]\n",
    "        sent2 = passage[i + x]\n",
    "\n",
    "        # 将句子按中文逗号“，”拆为子句\n",
    "        sub_sents1 = sent1.split(\"，\") if \"，\" in sent1 else [sent1]\n",
    "        sub_sents2 = sent2.split(\"，\") if \"，\" in sent2 else [sent2]\n",
    "\n",
    "        # 去除首尾空格（如果有）\n",
    "        sub_sents1 = [s.strip() for s in sub_sents1 if s.strip()]\n",
    "        sub_sents2 = [s.strip() for s in sub_sents2 if s.strip()]\n",
    "\n",
    "        # 构建两两组合\n",
    "        for ss1 in sub_sents1:\n",
    "            for ss2 in sub_sents2:\n",
    "                pair = {\n",
    "                    \"gold_label\": \"0\",\n",
    "                    \"sentence1\": ss1,\n",
    "                    \"sentence2\": ss2,\n",
    "                    \"ID\": str(ID_counter)\n",
    "                }\n",
    "                negative_pairs.append(pair)\n",
    "                ID_counter += 1\n",
    "\n",
    "    x = 3\n",
    "    for i in range(len(passage) - x):\n",
    "        sent1 = passage[i]\n",
    "        sent2 = passage[i + x]\n",
    "\n",
    "        # 将句子按中文逗号“，”拆为子句\n",
    "        sub_sents1 = sent1.split(\"，\") if \"，\" in sent1 else [sent1]\n",
    "        sub_sents2 = sent2.split(\"，\") if \"，\" in sent2 else [sent2]\n",
    "\n",
    "        # 去除首尾空格（如果有）\n",
    "        sub_sents1 = [s.strip() for s in sub_sents1 if s.strip()]\n",
    "        sub_sents2 = [s.strip() for s in sub_sents2 if s.strip()]\n",
    "\n",
    "        # 构建两两组合\n",
    "        for ss1 in sub_sents1:\n",
    "            for ss2 in sub_sents2:\n",
    "                pair = {\n",
    "                    \"gold_label\": \"0\",\n",
    "                    \"sentence1\": ss1,\n",
    "                    \"sentence2\": ss2,\n",
    "                    \"ID\": str(ID_counter)\n",
    "                }\n",
    "                negative_pairs.append(pair)\n",
    "                ID_counter += 1\n",
    "\n",
    "    x = 4\n",
    "    for i in range(len(passage) - x):\n",
    "        sent1 = passage[i]\n",
    "        sent2 = passage[i + x]\n",
    "\n",
    "        # 将句子按中文逗号“，”拆为子句\n",
    "        sub_sents1 = sent1.split(\"，\") if \"，\" in sent1 else [sent1]\n",
    "        sub_sents2 = sent2.split(\"，\") if \"，\" in sent2 else [sent2]\n",
    "\n",
    "        # 去除首尾空格（如果有）\n",
    "        sub_sents1 = [s.strip() for s in sub_sents1 if s.strip()]\n",
    "        sub_sents2 = [s.strip() for s in sub_sents2 if s.strip()]\n",
    "\n",
    "        # 构建两两组合\n",
    "        for ss1 in sub_sents1:\n",
    "            for ss2 in sub_sents2:\n",
    "                pair = {\n",
    "                    \"gold_label\": \"0\",\n",
    "                    \"sentence1\": ss1,\n",
    "                    \"sentence2\": ss2,\n",
    "                    \"ID\": str(ID_counter)\n",
    "                }\n",
    "                negative_pairs.append(pair)\n",
    "                ID_counter += 1\n",
    "\n",
    "    x = 5\n",
    "    for i in range(len(passage) - x):\n",
    "        sent1 = passage[i]\n",
    "        sent2 = passage[i + x]\n",
    "\n",
    "        # 将句子按中文逗号“，”拆为子句\n",
    "        sub_sents1 = sent1.split(\"，\") if \"，\" in sent1 else [sent1]\n",
    "        sub_sents2 = sent2.split(\"，\") if \"，\" in sent2 else [sent2]\n",
    "\n",
    "        # 去除首尾空格（如果有）\n",
    "        sub_sents1 = [s.strip() for s in sub_sents1 if s.strip()]\n",
    "        sub_sents2 = [s.strip() for s in sub_sents2 if s.strip()]\n",
    "\n",
    "        # 构建两两组合\n",
    "        for ss1 in sub_sents1:\n",
    "            for ss2 in sub_sents2:\n",
    "                pair = {\n",
    "                    \"gold_label\": \"0\",\n",
    "                    \"sentence1\": ss1,\n",
    "                    \"sentence2\": ss2,\n",
    "                    \"ID\": str(ID_counter)\n",
    "                }\n",
    "                negative_pairs.append(pair)\n",
    "                ID_counter += 1\n",
    "        \n",
    "    \n"
   ]
  },
  {
   "cell_type": "code",
   "execution_count": 48,
   "metadata": {},
   "outputs": [
    {
     "name": "stdout",
     "output_type": "stream",
     "text": [
      "{'gold_label': '1', 'sentence1': '数据作为新型生产要素', 'sentence2': '是数字化、网络化、智能化的基础', 'ID': '0'}\n",
      "{'gold_label': '1', 'sentence1': '是数字化、网络化、智能化的基础', 'sentence2': '已快速融入生产、分配、流通、消费和社会服务管理等各环节', 'ID': '1'}\n",
      "{'gold_label': '1', 'sentence1': '已快速融入生产、分配、流通、消费和社会服务管理等各环节', 'sentence2': '深刻改变着生产方式、生活方式和社会治理方式', 'ID': '2'}\n",
      "{'gold_label': '1', 'sentence1': '为加快构建数据基础制度', 'sentence2': '充分发挥我国海量数据规模和丰富应用场景优势', 'ID': '3'}\n",
      "{'gold_label': '1', 'sentence1': '充分发挥我国海量数据规模和丰富应用场景优势', 'sentence2': '激活数据要素潜能', 'ID': '4'}\n",
      "{'gold_label': '1', 'sentence1': '激活数据要素潜能', 'sentence2': '做强做优做大数字经济', 'ID': '5'}\n",
      "{'gold_label': '1', 'sentence1': '做强做优做大数字经济', 'sentence2': '增强经济发展新动能', 'ID': '6'}\n",
      "{'gold_label': '1', 'sentence1': '增强经济发展新动能', 'sentence2': '构筑国家竞争新优势', 'ID': '7'}\n",
      "{'gold_label': '1', 'sentence1': '构筑国家竞争新优势', 'sentence2': '现提出如下意见', 'ID': '8'}\n",
      "{'gold_label': '1', 'sentence1': '以习近平新时代中国特色社会主义思想为指导', 'sentence2': '深入贯彻党的二十大精神', 'ID': '9'}\n",
      "{'gold_label': '1', 'sentence1': '深入贯彻党的二十大精神', 'sentence2': '完整、准确、全面贯彻新发展理念', 'ID': '10'}\n",
      "{'gold_label': '1', 'sentence1': '完整、准确、全面贯彻新发展理念', 'sentence2': '加快构建新发展格局', 'ID': '11'}\n",
      "{'gold_label': '1', 'sentence1': '加快构建新发展格局', 'sentence2': '坚持改革创新、系统谋划', 'ID': '12'}\n",
      "{'gold_label': '1', 'sentence1': '坚持改革创新、系统谋划', 'sentence2': '以维护国家数据安全、保护个人信息和商业秘密为前提', 'ID': '13'}\n",
      "{'gold_label': '1', 'sentence1': '以维护国家数据安全、保护个人信息和商业秘密为前提', 'sentence2': '以促进数据合规高效流通使用、赋能实体经济为主线', 'ID': '14'}\n",
      "{'gold_label': '1', 'sentence1': '以促进数据合规高效流通使用、赋能实体经济为主线', 'sentence2': '以数据产权、流通交易、收益分配、安全治理为重点', 'ID': '15'}\n",
      "{'gold_label': '1', 'sentence1': '以数据产权、流通交易、收益分配、安全治理为重点', 'sentence2': '深入参与国际高标准数字规则制定', 'ID': '16'}\n",
      "{'gold_label': '1', 'sentence1': '深入参与国际高标准数字规则制定', 'sentence2': '构建适应数据特征、符合数字经济发展规律、保障国家数据安全、彰显创新引领的数据基础制度', 'ID': '17'}\n",
      "{'gold_label': '1', 'sentence1': '构建适应数据特征、符合数字经济发展规律、保障国家数据安全、彰显创新引领的数据基础制度', 'sentence2': '充分实现数据要素价值、促进全体人民共享数字经济发展红利', 'ID': '18'}\n",
      "{'gold_label': '1', 'sentence1': '充分实现数据要素价值、促进全体人民共享数字经济发展红利', 'sentence2': '为深化创新驱动、推动高质量发展、推进国家治理体系和治理能力现代化提供有力支撑', 'ID': '19'}\n",
      "{'gold_label': '1', 'sentence1': '——遵循发展规律', 'sentence2': '创新制度安排', 'ID': '20'}\n",
      "{'gold_label': '1', 'sentence1': '充分认识和把握数据产权、流通、交易、使用、分配、治理、安全等基本规律', 'sentence2': '探索有利于数据安全保护、有效利用、合规流通的产权制度和市场体系', 'ID': '21'}\n",
      "{'gold_label': '1', 'sentence1': '探索有利于数据安全保护、有效利用、合规流通的产权制度和市场体系', 'sentence2': '完善数据要素市场体制机制', 'ID': '22'}\n",
      "{'gold_label': '1', 'sentence1': '完善数据要素市场体制机制', 'sentence2': '在实践中完善', 'ID': '23'}\n",
      "{'gold_label': '1', 'sentence1': '在实践中完善', 'sentence2': '在探索中发展', 'ID': '24'}\n",
      "{'gold_label': '1', 'sentence1': '在探索中发展', 'sentence2': '促进形成与数字生产力相适应的新型生产关系', 'ID': '25'}\n",
      "{'gold_label': '1', 'sentence1': '——坚持共享共用', 'sentence2': '释放价值红利', 'ID': '26'}\n",
      "{'gold_label': '1', 'sentence1': '合理降低市场主体获取数据的门槛', 'sentence2': '增强数据要素共享性、普惠性', 'ID': '27'}\n",
      "{'gold_label': '1', 'sentence1': '增强数据要素共享性、普惠性', 'sentence2': '激励创新创业创造', 'ID': '28'}\n",
      "{'gold_label': '1', 'sentence1': '激励创新创业创造', 'sentence2': '强化反垄断和反不正当竞争', 'ID': '29'}\n",
      "len of positive pairs: 21979\n"
     ]
    }
   ],
   "source": [
    "# build positive pairs in json format: {\"gold_label\": \"1\", \"sentence1\": \"如何减少农药对人体的危害？\", \"sentence2\": \"怎样可以减少农药对人体的危害？\", \"ID\": \"208800\"}\n",
    "positive_pairs = []\n",
    "\n",
    "idx = 0\n",
    "for i in range(len(policy_text)):\n",
    "    if '，' in policy_text[i]:\n",
    "        sentence_count = policy_text[i].count('，')\n",
    "        for j in range(sentence_count):\n",
    "            positive_pairs.append({\"gold_label\": \"1\", \"sentence1\": policy_text[i].split('，')[j], \"sentence2\": policy_text[i].split('，')[j+1], \"ID\": str(idx)})\n",
    "            idx += 1\n",
    "\n",
    "for i in positive_pairs[:30]:\n",
    "    print(i)\n",
    "\n",
    "print(f'len of positive pairs: {len(positive_pairs)}')"
   ]
  },
  {
   "cell_type": "code",
   "execution_count": null,
   "metadata": {},
   "outputs": [
    {
     "name": "stdout",
     "output_type": "stream",
     "text": [
      "{'gold_label': '0', 'sentence1': '数据作为新型生产要素', 'sentence2': '推动协同制造', 'ID': '21979'}\n",
      "{'gold_label': '0', 'sentence1': '是数字化、网络化、智能化的基础', 'sentence2': '这种价值由于互联网技术的采用而在公司和行业之间产生和转移）估计为 29.7 万亿美元8', 'ID': '21980'}\n",
      "{'gold_label': '0', 'sentence1': '已快速融入生产、分配、流通、消费和社会服务管理等各环节', 'sentence2': '鼓励非公共数据以市场化方式授权使用、获取收益', 'ID': '21981'}\n",
      "{'gold_label': '0', 'sentence1': '为加快构建数据基础制度', 'sentence2': '推广应用电子保函', 'ID': '21982'}\n",
      "{'gold_label': '0', 'sentence1': '充分发挥我国海量数据规模和丰富应用场景优势', 'sentence2': '可能影响国家安全的', 'ID': '21983'}\n",
      "{'gold_label': '0', 'sentence1': '激活数据要素潜能', 'sentence2': '负责“津心办”数字社会综合应用平台（政务服务办事模块）与“政务一网通”的融合建设、提升完善、拓展应用、事项运维', 'ID': '21984'}\n",
      "{'gold_label': '0', 'sentence1': '做强做优做大数字经济', 'sentence2': '推进自治区骨干网、城域网的扩容和升级', 'ID': '21985'}\n",
      "{'gold_label': '0', 'sentence1': '增强经济发展新动能', 'sentence2': '保障网络信息依法有序自由流动', 'ID': '21986'}\n",
      "{'gold_label': '0', 'sentence1': '构筑国家竞争新优势', 'sentence2': '围绕粤港澳三地居民出行、通关、通信、支付、求职、养老、医疗、教育、保险、吃住游等场景和习惯', 'ID': '21987'}\n",
      "{'gold_label': '0', 'sentence1': '以习近平新时代中国特色社会主义思想为指导', 'sentence2': '营造公平竞争、规范有序的市场环境', 'ID': '21988'}\n",
      "{'gold_label': '0', 'sentence1': '深入贯彻党的二十大精神', 'sentence2': '或者香港特别行政区政府创新科技及工业局、政府资讯科技总监办公室、香港个人资料私隐专员公署', 'ID': '21989'}\n",
      "{'gold_label': '0', 'sentence1': '完整、准确、全面贯彻新发展理念', 'sentence2': '探索个人数据在个人信息保护法框架下合规使用的方法路径', 'ID': '21990'}\n",
      "{'gold_label': '0', 'sentence1': '加快构建新发展格局', 'sentence2': '对数据的及时性与准确性要求都比较高', 'ID': '21991'}\n",
      "{'gold_label': '0', 'sentence1': '坚持改革创新、系统谋划', 'sentence2': ' 加强数据治理', 'ID': '21992'}\n",
      "{'gold_label': '0', 'sentence1': '以维护国家数据安全、保护个人信息和商业秘密为前提', 'sentence2': '落实数据关联对象的知情权、决定权', 'ID': '21993'}\n",
      "{'gold_label': '0', 'sentence1': '以促进数据合规高效流通使用、赋能实体经济为主线', 'sentence2': '(省发展改革委、省工业和信息化厅、省通信管理局、省能源局', 'ID': '21994'}\n",
      "{'gold_label': '0', 'sentence1': '以数据产权、流通交易、收益分配、安全治理为重点', 'sentence2': '以便及时更新目录', 'ID': '21995'}\n",
      "{'gold_label': '0', 'sentence1': '深入参与国际高标准数字规则制定', 'sentence2': '为融合应用提供数据流通基础服务', 'ID': '21996'}\n",
      "{'gold_label': '0', 'sentence1': '构建适应数据特征、符合数字经济发展规律、保障国家数据安全、彰显创新引领的数据基础制度', 'sentence2': '服务大局', 'ID': '21997'}\n",
      "{'gold_label': '0', 'sentence1': '充分实现数据要素价值、促进全体人民共享数字经济发展红利', 'sentence2': '支持研发计算机辅助设计与仿真、制造执行系统、企业管理系统、产品全生命周期管理等工业软件及应用解决方案', 'ID': '21998'}\n",
      "{'gold_label': '0', 'sentence1': '——遵循发展规律', 'sentence2': '建设30个具有竞争力的工业互联网平台', 'ID': '21999'}\n",
      "{'gold_label': '0', 'sentence1': '充分认识和把握数据产权、流通、交易、使用、分配、治理、安全等基本规律', 'sentence2': '\\u3000\\u3000第十九条 科技伦理（审查）委员会应对审查批准的科技活动开展伦理跟踪审查', 'ID': '22000'}\n",
      "{'gold_label': '0', 'sentence1': '探索有利于数据安全保护、有效利用、合规流通的产权制度和市场体系', 'sentence2': '我国建成了全球规模最大、技术领先、性能优越的数字基础设施', 'ID': '22001'}\n",
      "{'gold_label': '0', 'sentence1': '完善数据要素市场体制机制', 'sentence2': '“数据二十条”以解决市场主体遇到的实际问题为导向', 'ID': '22002'}\n",
      "{'gold_label': '0', 'sentence1': '在实践中完善', 'sentence2': '加快释放数据要素价值', 'ID': '22003'}\n",
      "{'gold_label': '0', 'sentence1': '在探索中发展', 'sentence2': '并积累了丰富的经验', 'ID': '22004'}\n",
      "{'gold_label': '0', 'sentence1': '——坚持共享共用', 'sentence2': '其中省级平台 17 个', 'ID': '22005'}\n",
      "{'gold_label': '0', 'sentence1': '合理降低市场主体获取数据的门槛', 'sentence2': '有利于构建更加公平合理、开放包容、安全稳定、富有生机活力的网络空间', 'ID': '22006'}\n",
      "{'gold_label': '0', 'sentence1': '增强数据要素共享性、普惠性', 'sentence2': '创建、复制、捕获和消费产生的数据总量', 'ID': '22007'}\n",
      "{'gold_label': '0', 'sentence1': '激励创新创业创造', 'sentence2': '2020(4):37-53.', 'ID': '22008'}\n",
      "len of negative pairs: 21979\n"
     ]
    }
   ],
   "source": [
    "# build negative pairs in json format: {\"gold_label\": \"0\", \"sentence1\": \"孕妇吃菠菜好吗\", \"sentence2\": \"孕妇可以吃炒菠菜吗\", \"ID\": \"208799\"}\n",
    "# 80% randomly select a sentence from policy_text as sentence1, then randomly select another sentence from policy_text as sentence2\n",
    "# 20% interchage the order of sentence1 and sentence2\n",
    "\n",
    "negative_pairs = []\n",
    "sentence_set = set()\n",
    "idx = len(positive_pairs)\n",
    "for pair in positive_pairs:\n",
    "    sentence_set.add(pair['sentence1'])\n",
    "sentence_set.add(positive_pairs[-1]['sentence2'])\n",
    "\n",
    "for i in range(len(positive_pairs)):\n",
    "    if True :\n",
    "        sentence1 = positive_pairs[i]['sentence1']\n",
    "        sentence2 = positive_pairs[i]['sentence2']\n",
    "        sentence2_temp = random.choice(list(sentence_set))\n",
    "        while sentence2_temp == sentence2:\n",
    "            sentence2_temp = random.choice(list(sentence_set))\n",
    "        negative_pairs.append({\"gold_label\": \"0\", \"sentence1\": sentence1, \"sentence2\": sentence2_temp, \"ID\": str(idx)})\n",
    "        idx += 1\n",
    "\n",
    "    else:\n",
    "        negative_pairs.append({\"gold_label\": \"0\", \"sentence1\": positive_pairs[i]['sentence2'], \"sentence2\": positive_pairs[i]['sentence1'], \"ID\": str(idx)})\n",
    "        idx += 1\n",
    "\n",
    "for i in negative_pairs[:30]:\n",
    "    print(i)\n",
    "\n",
    "print(f'len of negative pairs: {len(negative_pairs)}')\n"
   ]
  },
  {
   "cell_type": "code",
   "execution_count": 50,
   "metadata": {},
   "outputs": [
    {
     "name": "stdout",
     "output_type": "stream",
     "text": [
      "{'gold_label': '1', 'sentence1': '以数据为新生产要素的数字经济蓬勃发展', 'sentence2': '数据的竞争已成为国际竞争的重要领域', 'ID': '0'}\n",
      "{'gold_label': '1', 'sentence1': '没收违法所得', 'sentence2': '处五万元以上五十万元以下罚款', 'ID': '1'}\n",
      "{'gold_label': '1', 'sentence1': '依法给予治安管理处罚；构成犯罪的', 'sentence2': '依法追究刑事责任', 'ID': '2'}\n",
      "{'gold_label': '0', 'sentence1': '行业主管部门要聚焦重点行业数据开发利用需求', 'sentence2': '对于推进数字化、智能化及可持续发展至关重要', 'ID': '3'}\n",
      "{'gold_label': '1', 'sentence1': '中西部地区虽然与东部区域仍存在一定差异', 'sentence2': '但在国家战略下正在加快追赶速度', 'ID': '4'}\n",
      "{'gold_label': '1', 'sentence1': '落实党中央部署要求', 'sentence2': '制定一部个人信息保护方面的专门法律', 'ID': '5'}\n",
      "{'gold_label': '1', 'sentence1': '加强上海数据交易所全球推介', 'sentence2': '支持建设亚洲数据要素市场研究院', 'ID': '6'}\n",
      "{'gold_label': '1', 'sentence1': '推动部门信息资源高效互通共享', 'sentence2': '全面实现应急管理数字化、网络化、智能化', 'ID': '7'}\n",
      "{'gold_label': '0', 'sentence1': '对于适用专家复核程序的科技活动', 'sentence2': '而是通过政府来源、商业来源和其他公开可用来源等途径收集个人数据等并转让、共享给他人', 'ID': '8'}\n",
      "{'gold_label': '1', 'sentence1': '即1995年开始实施的《信用信息的利用及保护法》、2001年开始实施的《信息通信网络利用促进及信息保护法》、2011年开始实施的《个人信息保护法》', 'sentence2': '并以专门领域立法中个人信息保护相关的法律规范作为必要的补充', 'ID': '9'}\n",
      "{'gold_label': '1', 'sentence1': '（牵头单位：市工业和信息化局；配合单位：市发展改革委、市科技局）深化与国内大院名校合作', 'sentence2': '推进科研力量优化配置和资源共享', 'ID': '10'}\n",
      "{'gold_label': '0', 'sentence1': '市大数据中心开展公共数据资产登记工作', 'sentence2': '各类主体不断涌现', 'ID': '11'}\n",
      "{'gold_label': '1', 'sentence1': '健全监管规则', 'sentence2': '补齐制度短板', 'ID': '12'}\n",
      "{'gold_label': '1', 'sentence1': '从数据管理维度来看', 'sentence2': '面向人工智能的数据治理体系仍会根据数据结构化流向、数据资产管理需要、数据安全需求等角度顺应搭建元数据管理、数据资产管理、主数据管理、数据生命周期管理和数据安全隐私管理等组件模块', 'ID': '13'}\n",
      "{'gold_label': '0', 'sentence1': '发展一批数字技术开源社区、开源项目', 'sentence2': '2 工业和信息化部', 'ID': '14'}\n",
      "{'gold_label': '0', 'sentence1': '其中', 'sentence2': '说明在近年省级与副省级城市平台建设的模范效应下', 'ID': '15'}\n",
      "{'gold_label': '0', 'sentence1': '通过发挥各类社会媒介的宣传作用', 'sentence2': '初步搭建起网络安全、数据安全、个人信息保护的基本框架体系', 'ID': '16'}\n",
      "{'gold_label': '1', 'sentence1': '由有关主管部门责令改正', 'sentence2': '给予警告', 'ID': '17'}\n",
      "{'gold_label': '0', 'sentence1': '因其包括重大的市场风险', 'sentence2': '加强信息技术沟通对接', 'ID': '18'}\n",
      "{'gold_label': '0', 'sentence1': '防止危害扩大', 'sentence2': '推进呼和浩特市、乌兰察布市、鄂尔多斯市等数据中心建设', 'ID': '19'}\n",
      "{'gold_label': '0', 'sentence1': '俄罗斯也希望通过数据本地化存储加强政府执法权和对数据的控制力', 'sentence2': '第四条 数据处理者向境外提供数据', 'ID': '20'}\n",
      "{'gold_label': '1', 'sentence1': '应该是国家一般禁止的行为', 'sentence2': '但国家为了促进数据开发利用', 'ID': '21'}\n",
      "{'gold_label': '0', 'sentence1': '以数字政府建设为核心', 'sentence2': '加快5G网络建设', 'ID': '22'}\n",
      "{'gold_label': '1', 'sentence1': '发挥数据要素的放大、叠加、倍增作用', 'sentence2': '构建以数据为关键要素的数字经济', 'ID': '23'}\n",
      "{'gold_label': '1', 'sentence1': '公司持有该股票达到相关上市公司已发行股份1%以上的', 'sentence2': '应当在证券研究报告中向客户披露本公司持有该股票的情况', 'ID': '24'}\n",
      "{'gold_label': '0', 'sentence1': '包括科技活动方案', 'sentence2': '依托人工智能、数字孪生等技术', 'ID': '25'}\n",
      "{'gold_label': '1', 'sentence1': '例如', 'sentence2': '重新界定政府数据开放的常见术语', 'ID': '26'}\n",
      "{'gold_label': '1', 'sentence1': '坚持外引内培并举', 'sentence2': '优化市场主体结构、扩大市场主体规模、提升市场主体活跃度', 'ID': '27'}\n",
      "{'gold_label': '0', 'sentence1': '加强对本规划实施的组织、协调和督导', 'sentence2': '推动文物、古籍、美术、戏曲剧种、非物质文化遗产、民族民间文艺等数据资源依法开放共享和交易流通', 'ID': '28'}\n",
      "{'gold_label': '0', 'sentence1': '鼓励企业围绕种养业、制造业、物流运输、医疗、教育等产业领域实施基础设施数字化融合改造', 'sentence2': '2020 年 4 月', 'ID': '29'}\n",
      "len of datapool: 43958\n"
     ]
    }
   ],
   "source": [
    "# create a datapool with positive and negative pairs\n",
    "datapool = positive_pairs + negative_pairs\n",
    "random.shuffle(datapool)\n",
    "# redefine the ID\n",
    "for i in range(len(datapool)):\n",
    "    datapool[i]['ID'] = str(i)\n",
    "\n",
    "for i in datapool[:30]:\n",
    "    print(i)\n",
    "\n",
    "print(f'len of datapool: {len(datapool)}')"
   ]
  },
  {
   "cell_type": "code",
   "execution_count": 51,
   "metadata": {},
   "outputs": [
    {
     "name": "stdout",
     "output_type": "stream",
     "text": [
      "len of datapool_train: 40282\n",
      "len of datapool_dev: 1831\n",
      "len of datapool_test: 1845\n",
      "data left: 0\n"
     ]
    }
   ],
   "source": [
    "# split policy_train.json, policy_dev.json, policy_test.json with 12:1:1\n",
    "train_size = len(datapool) // 24 * 22\n",
    "dev_size = len(datapool) // 24\n",
    "test_size = len(datapool) - train_size - dev_size\n",
    "\n",
    "datapool_train = datapool[:train_size]\n",
    "datapool_dev = datapool[train_size:train_size+dev_size]\n",
    "datapool_test = datapool[train_size+dev_size:]\n",
    "\n",
    "print(f'len of datapool_train: {len(datapool_train)}')\n",
    "print(f'len of datapool_dev: {len(datapool_dev)}')\n",
    "print(f'len of datapool_test: {len(datapool_test)}')\n",
    "\n",
    "print(f\"data left: {len(datapool) - len(datapool_train) - len(datapool_dev) - len(datapool_test)}\")"
   ]
  },
  {
   "cell_type": "code",
   "execution_count": null,
   "metadata": {},
   "outputs": [],
   "source": [
    "# # write to json file\n",
    "# import json\n",
    "# with open('/Users/pu_ht/src/ZEN/datasets/policy_SM/policy_train.json', 'w') as f:\n",
    "#     json.dump(datapool_train, f, indent=4, ensure_ascii=False)\n",
    "\n",
    "# with open('/Users/pu_ht/src/ZEN/datasets/policy_SM/policy_dev.json', 'w') as f:\n",
    "#     json.dump(datapool_dev, f, indent=4, ensure_ascii=False)\n",
    "\n",
    "# with open('/Users/pu_ht/src/ZEN/datasets/policy_SM/policy_test.json', 'w') as f:\n",
    "#     json.dump(datapool_test, f, indent=4, ensure_ascii=False)\n",
    "\n",
    "# with open ('/Users/pu_ht/src/ZEN/datasets/policy_SM/datapool.json', 'w') as f:\n",
    "#     json.dump(datapool, f, indent=4, ensure_ascii=False)\n",
    "\n",
    "# print('done')"
   ]
  },
  {
   "cell_type": "code",
   "execution_count": 54,
   "metadata": {},
   "outputs": [
    {
     "name": "stdout",
     "output_type": "stream",
     "text": [
      "done\n"
     ]
    }
   ],
   "source": [
    "# write to tsv\n",
    "import csv\n",
    "\n",
    "with open('/Users/pu_ht/src/ZEN/datasets/policy_SM/train.tsv', 'w') as f:\n",
    "    writer = csv.writer(f, delimiter='\\t')\n",
    "    # writer.writerow(['sentence1', 'sentence2', 'gold_label', 'ID'])\n",
    "    for i in range(len(datapool_train)):\n",
    "        writer.writerow([datapool_train[i]['sentence1'], datapool_train[i]['sentence2'], datapool_train[i]['gold_label'], datapool_train[i]['ID']])\n",
    "\n",
    "with open('/Users/pu_ht/src/ZEN/datasets/policy_SM/dev.tsv', 'w') as f:\n",
    "    writer = csv.writer(f, delimiter='\\t')\n",
    "    # writer.writerow(['sentence1', 'sentence2', 'gold_label', 'ID'])\n",
    "    for i in range(len(datapool_dev)):\n",
    "        writer.writerow([datapool_dev[i]['sentence1'], datapool_dev[i]['sentence2'], datapool_dev[i]['gold_label'], datapool_dev[i]['ID']])\n",
    "\n",
    "with open('/Users/pu_ht/src/ZEN/datasets/policy_SM/test.tsv', 'w') as f:\n",
    "    writer = csv.writer(f, delimiter='\\t')\n",
    "    # writer.writerow(['sentence1', 'sentence2', 'gold_label', 'ID'])\n",
    "    for i in range(len(datapool_test)):\n",
    "        writer.writerow([datapool_test[i]['sentence1'], datapool_test[i]['sentence2'], datapool_test[i]['gold_label'], datapool_test[i]['ID']])\n",
    "\n",
    "with open('/Users/pu_ht/src/ZEN/datasets/policy_SM/datapool.tsv', 'w') as f:\n",
    "    writer = csv.writer(f, delimiter='\\t')\n",
    "    # writer.writerow(['sentence1', 'sentence2', 'gold_label', 'ID'])\n",
    "    for i in range(len(datapool)):\n",
    "        writer.writerow([datapool[i]['sentence1'], datapool[i]['sentence2'], datapool[i]['gold_label'], datapool[i]['ID']]) \n",
    "                        \n",
    "print('done')"
   ]
  },
  {
   "cell_type": "code",
   "execution_count": null,
   "metadata": {},
   "outputs": [],
   "source": []
  }
 ],
 "metadata": {
  "kernelspec": {
   "display_name": "venv",
   "language": "python",
   "name": "python3"
  },
  "language_info": {
   "codemirror_mode": {
    "name": "ipython",
    "version": 3
   },
   "file_extension": ".py",
   "mimetype": "text/x-python",
   "name": "python",
   "nbconvert_exporter": "python",
   "pygments_lexer": "ipython3",
   "version": "3.10.16"
  }
 },
 "nbformat": 4,
 "nbformat_minor": 2
}
